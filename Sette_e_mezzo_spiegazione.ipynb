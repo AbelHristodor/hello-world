{
 "cells": [
  {
   "cell_type": "markdown",
   "metadata": {},
   "source": [
    "# Sette e Mezzo\n"
   ]
  },
  {
   "cell_type": "markdown",
   "metadata": {},
   "source": [
    "### 1. Capire il problema"
   ]
  },
  {
   "cell_type": "markdown",
   "metadata": {},
   "source": [
    "Importante è inizialmente capire il problemaa, capire la richiesta e, nel nostro caso capire come funziona il gioco.\n",
    "Per questo si può usare un motore di ricerca."
   ]
  },
  {
   "cell_type": "markdown",
   "metadata": {},
   "source": [
    "### 2. Spezzettare il problema"
   ]
  },
  {
   "cell_type": "markdown",
   "metadata": {},
   "source": [
    "E facile incasinarsi nel cercar di risolvere un problema perciò è fondamentale che tutto inizi dal gradino più basso.\n",
    "Usa un foglio e inizia a scrivere i primi passi da fare e così via."
   ]
  },
  {
   "cell_type": "markdown",
   "metadata": {},
   "source": [
    "# Inizio"
   ]
  },
  {
   "cell_type": "markdown",
   "metadata": {},
   "source": [
    "Per prima cosa bisogna importare dei moduli che ci serviranno."
   ]
  },
  {
   "cell_type": "code",
   "execution_count": null,
   "metadata": {},
   "outputs": [],
   "source": [
    "import random"
   ]
  },
  {
   "cell_type": "markdown",
   "metadata": {},
   "source": [
    "Poi avremo bisogno di creare un mazzo di carte. Ci sono tanti modi, io preferisco usare una lista di elementi (carte) perchè è più facile da modificare. Inoltre creamo anche due variabili alle quali diamo come valore 0 le quali saranno le due sokme totali delle carte dell'AI e utente."
   ]
  },
  {
   "cell_type": "code",
   "execution_count": null,
   "metadata": {},
   "outputs": [],
   "source": [
    "mazzo_carte = ['1d', '2d', '3d', '4d', '5d', '6d', '7d', 'fd', 'cd', 'rd', '1b', '2b', '3b', '4b', '5b', '6b', '7b',\n",
    "               'fb', 'cb', 'rb', '1c',\n",
    "               '2c', '3c', '4c', '5c', '6c', '7c', 'fc', 'cc', 'rc', '1s', '2s', '3s', '4s', '5s', '6s', '7s', 'fs',\n",
    "               'cs', 'rs']\n",
    "\n",
    "Somma_pc = 0\n",
    "Somma_usr = 0"
   ]
  },
  {
   "cell_type": "markdown",
   "metadata": {},
   "source": [
    "Per far capire all'utente le carte, successivamente stamperemo questo: "
   ]
  },
  {
   "cell_type": "code",
   "execution_count": null,
   "metadata": {},
   "outputs": [],
   "source": [
    "print(\"\\n##########################################################\\n\")\n",
    "print(\"Per riconoscere le carte:\")\n",
    "print(\"'d' sta per Denari    'b' sta per Bastoni \\n'c' sta per Coppe   's' sta per spade\")\n",
    "print(\"'f' sta per Fante    'c' sta per Cavallo  e 'r' sta per Re\\n \")\n",
    "print(\"##########################################################\\n\\n\\n\\n\")"
   ]
  },
  {
   "cell_type": "markdown",
   "metadata": {},
   "source": [
    "# Body"
   ]
  },
  {
   "cell_type": "markdown",
   "metadata": {},
   "source": [
    "Ora inizia il 'corpo' del nostro codice.Conosciamo che il gioco finisce quando la somma delle carte o del pc o dell'utente supera 7.5, percò usiamo un while loop.\n",
    "Sappiamo, inoltre che il gioco sarà a turni e che finchè l'utente vorra continuare ('c') il suo turno non si fermerà. Quindi:"
   ]
  },
  {
   "cell_type": "code",
   "execution_count": null,
   "metadata": {},
   "outputs": [],
   "source": [
    "choice = 'c' # Per far iniziare il turno al giocatore\n",
    "while Somma_pc < 7.5 and Somma_usr < 7.5:\n",
    "    while choice == 'c':"
   ]
  },
  {
   "cell_type": "markdown",
   "metadata": {},
   "source": [
    "Dobbiamo creare anche una funzione switcher che, ricevendo una carta e la somma dell'utente aggiungerà il valore di tale carta alla somma totale.Per riconoscere le carte uso la funzione delle stringe string.startswith('arg')"
   ]
  },
  {
   "cell_type": "code",
   "execution_count": null,
   "metadata": {},
   "outputs": [],
   "source": [
    "def switcher(carta, SommaCarte):\n",
    "    str(carta)\n",
    "    if carta.startswith('1'):\n",
    "        SommaCarte += 1             # SommaCarte = SommaCarte + 1\n",
    "    elif carta.startswith('2'):\n",
    "        SommaCarte += 2\n",
    "    elif carta.startswith('3'):\n",
    "        SommaCarte += 3\n",
    "    elif carta.startswith('4'):\n",
    "        SommaCarte += 4\n",
    "    elif carta.startswith('5'):\n",
    "        SommaCarte += 5\n",
    "    elif carta.startswith('6'):\n",
    "        SommaCarte += 6\n",
    "    elif carta.startswith('7'):\n",
    "        SommaCarte += 7\n",
    "    elif carta.startswith('f') or carta.startswith('c') or carta.startswith('r'):\n",
    "        SommaCarte += 0.5\n",
    "    return SommaCarte"
   ]
  },
  {
   "cell_type": "markdown",
   "metadata": {},
   "source": [
    "Ora bisogna estrarre una carta dal mazzo, fare la somma ed eliminarla dal mazzo. Per questo useremo le funzioni list.pop(), list.index() e per estrarre una carta a caso useremo il modulo random."
   ]
  },
  {
   "cell_type": "code",
   "execution_count": null,
   "metadata": {},
   "outputs": [],
   "source": [
    "carta_usr = mazzo_carte[random.randrange(len(mazzo_carte))]  # carta dell'utente\n",
    "        print(f\"Tieni una carta: {carta_usr}\")\n",
    "        Somma_usr = switcher(carta_usr, Somma_usr)  # Si aggiunge il valore della carta alla somma tot\n",
    "        carta_user_index = mazzo_carte.index(carta_usr)  # Si trova l'indice della carta scelta\n",
    "        mazzo_carte.pop(carta_user_index)  # Si elimina tale carta dal mazzo"
   ]
  },
  {
   "cell_type": "markdown",
   "metadata": {},
   "source": [
    "Dobbiamo ora dare delle condizioni le quali dovramno fermare il gioco se la somma supera 7.5 , se il mazzo è vuoto oppure se alla domanda \"Vuoi continuare a estrarre carte\" la risposta sarà 'f' (allora il turno termina e basta)"
   ]
  },
  {
   "cell_type": "code",
   "execution_count": null,
   "metadata": {},
   "outputs": [],
   "source": [
    "print(f\"\\nLa somma delle tue carte è {Somma_usr}\\n\")\n",
    "if Somma_usr > 7.5:\n",
    "    print(\"Hai perso!\\n\\n\")\n",
    "    break\n",
    "elif len(mazzo_carte) == 0:\n",
    "    print(\"Il mazzo è vuoto!\\nHo vinto io!\\n\\n\")\n",
    "    break\n",
    "else:\n",
    "    choice = input(\"Vuoi continuare o fermarti (c/f)? \")"
   ]
  },
  {
   "cell_type": "markdown",
   "metadata": {},
   "source": [
    "### Inizio turno AI"
   ]
  },
  {
   "cell_type": "markdown",
   "metadata": {},
   "source": [
    "Ora, se l'utente sceglierà 'f' il turno passerà all'AI.\n",
    "Intanto dobbiamo fare una funzione che ci dia sempre una carta che anche se sommata alla somma totale delle carte sarà sempre minore di 7.5."
   ]
  },
  {
   "cell_type": "code",
   "execution_count": null,
   "metadata": {},
   "outputs": [],
   "source": [
    "def turno_pc(mazzo, Somma):\n",
    "    Somma = 0\n",
    "    x = 0\n",
    "    while Somma < 7.5:\n",
    "        carta = mazzo[random.randrange(len(mazzo))]\n",
    "        Somma = switcher(carta, Somma)\n",
    "        carta_pc_index = mazzo.index(carta)\n",
    "        mazzo.pop(carta_pc_index)\n",
    "        if Somma < 7.5:\n",
    "            x = Somma\n",
    "    return x"
   ]
  },
  {
   "cell_type": "markdown",
   "metadata": {},
   "source": [
    "Ora semplicemente chiamiamo la funzione e aggiungiamo le condizioni dello stop del gioco o del cambio di turno."
   ]
  },
  {
   "cell_type": "code",
   "execution_count": null,
   "metadata": {},
   "outputs": [],
   "source": [
    "if Somma_pc > 7.5:\n",
    "    print(f\"La somma delle mie carte è {Somma_pc}\")\n",
    "    print(\"Hai perso!\\n\\n\")\n",
    "    break\n",
    "elif len(mazzo_carte) == 0:\n",
    "    print(\"Il mazzo è vuoto!\\nHo vinto io!\")\n",
    "    break\n",
    "else:\n",
    "    choice = 'c'"
   ]
  },
  {
   "cell_type": "markdown",
   "metadata": {},
   "source": [
    "# Fine"
   ]
  },
  {
   "cell_type": "markdown",
   "metadata": {},
   "source": [
    "Il codice completo sarà più o meno così:"
   ]
  },
  {
   "cell_type": "code",
   "execution_count": null,
   "metadata": {},
   "outputs": [],
   "source": [
    "# Sette e mezzo\n",
    "import random\n",
    "mazzo_carte = ['1d', '2d', '3d', '4d', '5d', '6d', '7d', 'fd', 'cd', 'rd', '1b', '2b', '3b', '4b', '5b', '6b', '7b',\n",
    "               'fb', 'cb', 'rb', '1c',\n",
    "               '2c', '3c', '4c', '5c', '6c', '7c', 'fc', 'cc', 'rc', '1s', '2s', '3s', '4s', '5s', '6s', '7s', 'fs',\n",
    "               'cs', 'rs']\n",
    "\n",
    "Somma_pc = 0\n",
    "Somma_usr = 0\n",
    "\n",
    "\n",
    "def switcher(carta, SommaCarte):\n",
    "    str(carta)\n",
    "    if carta.startswith('1'):\n",
    "        SommaCarte += 1             # SommaCarte = SommaCarte + 1\n",
    "    elif carta.startswith('2'):\n",
    "        SommaCarte += 2\n",
    "    elif carta.startswith('3'):\n",
    "        SommaCarte += 3\n",
    "    elif carta.startswith('4'):\n",
    "        SommaCarte += 4\n",
    "    elif carta.startswith('5'):\n",
    "        SommaCarte += 5\n",
    "    elif carta.startswith('6'):\n",
    "        SommaCarte += 6\n",
    "    elif carta.startswith('7'):\n",
    "        SommaCarte += 7\n",
    "    elif carta.startswith('f') or carta.startswith('c') or carta.startswith('r'):\n",
    "        SommaCarte += 0.5\n",
    "    return SommaCarte\n",
    "\n",
    "\n",
    "def turno_pc(mazzo, Somma):\n",
    "    Somma = 0\n",
    "    x = 0\n",
    "    while Somma < 7.5:\n",
    "        carta = mazzo[random.randrange(len(mazzo))]\n",
    "        Somma = switcher(carta, Somma)\n",
    "        carta_pc_index = mazzo.index(carta)\n",
    "        mazzo.pop(carta_pc_index)\n",
    "        if Somma < 7.5:\n",
    "            x = Somma\n",
    "    return x\n",
    "\n",
    "\n",
    "print(\"\\n##########################################################\\n\")\n",
    "print(\"Per riconoscere le carte:\")\n",
    "print(\"'d' sta per Denari    'b' sta per Bastoni \\n'c' sta per Coppe   's' sta per spade\")\n",
    "print(\"'f' sta per Fante    'c' sta per Cavallo  e 'r' sta per Re\\n \")\n",
    "print(\"##########################################################\\n\\n\\n\\n\")\n",
    "\n",
    "\n",
    "choice = 'c'\n",
    "\n",
    "while Somma_pc < 7.5 and Somma_usr < 7.5:\n",
    "    while choice == 'c':\n",
    "        print(\"#########################TURNO UTENTE#####################\\n\\n\")\n",
    "        carta_usr = mazzo_carte[random.randrange(len(mazzo_carte))]  # carta dell'utente\n",
    "        print(f\"Tieni una carta: {carta_usr}\")\n",
    "        Somma_usr = switcher(carta_usr, Somma_usr)  # Si aggiunge il valore della carta alla somma tot\n",
    "        carta_user_index = mazzo_carte.index(carta_usr)  # Si trova l'indice della carta scelta\n",
    "        mazzo_carte.pop(carta_user_index)  # Si elimina tale carta dal mazzo\n",
    "        print(f\"\\nLa somma delle tue carte è {Somma_usr}\\n\")\n",
    "        if Somma_usr > 7.5:\n",
    "            print(f\"La somma delle tue carte è {Somma_usr}\")\n",
    "            print(\"Hai perso!\\n\\n\")\n",
    "            print(\"#########################FINE TURNO######################\\n\\n\")\n",
    "            break\n",
    "        elif len(mazzo_carte) == 0:\n",
    "            print(\"Il mazzo è vuoto!\\nHo vinto io!\\n\\n\")\n",
    "            print(\"#########################FINE TURNO######################\\n\\n\")\n",
    "            break\n",
    "        else:\n",
    "            choice = input(\"Vuoi continuare o fermarti (c/f)? \")\n",
    "            print(\"\\n\\n#########################FINE TURNO######################\\n\\n\")\n",
    "\n",
    "    while choice == 'f':\n",
    "        print(\"#########################TURNO AI#########################\\n\\n\")\n",
    "        Somma_pc = turno_pc(mazzo_carte, Somma_pc)\n",
    "        if Somma_pc < 7.5:\n",
    "            print(f\"La somma delle mie carte è {Somma_pc}\\n\")       # SOLO per testing\n",
    "        elif Somma_pc > 7.5:\n",
    "            print(f\"La somma delle mie carte è {Somma_pc}\")\n",
    "            print(\"Hai perso!\\n\\n\")\n",
    "            print(\"\\n\\n#########################FINE TURNO######################\\n\\n\")\n",
    "            break\n",
    "        elif len(mazzo_carte) == 0:\n",
    "            print(\"Il mazzo è vuoto!\\nHo vinto io!\")\n",
    "            print(\"\\n\\n#########################FINE TURNO######################\\n\\n\")\n",
    "            break\n",
    "        else:\n",
    "            choice = 'c'\n",
    "            print(\"\\n\\n#########################FINE TURNO######################\\n\\n\")"
   ]
  },
  {
   "cell_type": "code",
   "execution_count": null,
   "metadata": {},
   "outputs": [],
   "source": []
  }
 ],
 "metadata": {
  "kernelspec": {
   "display_name": "Python 3",
   "language": "python",
   "name": "python3"
  },
  "language_info": {
   "codemirror_mode": {
    "name": "ipython",
    "version": 3
   },
   "file_extension": ".py",
   "mimetype": "text/x-python",
   "name": "python",
   "nbconvert_exporter": "python",
   "pygments_lexer": "ipython3",
   "version": "3.6.4"
  }
 },
 "nbformat": 4,
 "nbformat_minor": 2
}
